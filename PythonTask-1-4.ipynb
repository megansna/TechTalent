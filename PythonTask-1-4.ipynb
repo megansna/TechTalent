{
  "nbformat": 4,
  "nbformat_minor": 0,
  "metadata": {
    "colab": {
      "name": "PythonTask4",
      "provenance": [],
      "authorship_tag": "ABX9TyNqdtmR2k1a+vDnH/4eat7O",
      "include_colab_link": true
    },
    "kernelspec": {
      "name": "python3",
      "display_name": "Python 3"
    }
  },
  "cells": [
    {
      "cell_type": "markdown",
      "metadata": {
        "id": "view-in-github",
        "colab_type": "text"
      },
      "source": [
        "<a href=\"https://colab.research.google.com/github/megansna/TechTalent/blob/main/PythonTask-1-4.ipynb\" target=\"_parent\"><img src=\"https://colab.research.google.com/assets/colab-badge.svg\" alt=\"Open In Colab\"/></a>"
      ]
    },
    {
      "cell_type": "markdown",
      "metadata": {
        "id": "orHUlTqUSayC"
      },
      "source": [
        "###Task 4<br> \r\n",
        "**Your task:**<br>\r\n",
        "A motorbike costs £2000 and loses 10% of its value every year.  \r\n",
        "Using a loop, print the value of the bike every following year until it falls below £1000."
      ]
    },
    {
      "cell_type": "code",
      "metadata": {
        "colab": {
          "base_uri": "https://localhost:8080/"
        },
        "id": "a292C2thSYsa",
        "outputId": "6a9041ee-b74a-427f-9638-ca40856dbfcb"
      },
      "source": [
        "year = 0\r\n",
        "motorbikeGBP = float(2000)\r\n",
        "def annualValue():\r\n",
        "    print('Year ' + str(year) + '\\t£{0}'.format(format(motorbikeGBP, ',.2f')))\r\n",
        "while motorbikeGBP >= 1000:\r\n",
        "    annualValue()\r\n",
        "    motorbikeGBP = motorbikeGBP * 0.9\r\n",
        "    year += 1\r\n",
        "print('\\033[1m') \r\n",
        "annualValue()"
      ],
      "execution_count": null,
      "outputs": [
        {
          "output_type": "stream",
          "text": [
            "Year 0\t£2,000.00\n",
            "Year 1\t£1,800.00\n",
            "Year 2\t£1,620.00\n",
            "Year 3\t£1,458.00\n",
            "Year 4\t£1,312.20\n",
            "Year 5\t£1,180.98\n",
            "Year 6\t£1,062.88\n",
            "\u001b[1m\n",
            "Year 7\t£956.59\n"
          ],
          "name": "stdout"
        }
      ]
    }
  ]
}