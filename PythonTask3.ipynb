{
  "nbformat": 4,
  "nbformat_minor": 0,
  "metadata": {
    "colab": {
      "name": "PythonTask3",
      "provenance": [],
      "authorship_tag": "ABX9TyNTVlmYDugQyabL770psaxT",
      "include_colab_link": true
    },
    "kernelspec": {
      "name": "python3",
      "display_name": "Python 3"
    }
  },
  "cells": [
    {
      "cell_type": "markdown",
      "metadata": {
        "id": "view-in-github",
        "colab_type": "text"
      },
      "source": [
        "<a href=\"https://colab.research.google.com/github/megansna/TechTalent/blob/main/PythonTask3.ipynb\" target=\"_parent\"><img src=\"https://colab.research.google.com/assets/colab-badge.svg\" alt=\"Open In Colab\"/></a>"
      ]
    },
    {
      "cell_type": "markdown",
      "metadata": {
        "id": "EHo5gFDdRYSJ"
      },
      "source": [
        "### Task 3\r\n",
        "**Write a program that:<br>**\r\n",
        "> a) Allows a user to enter their favourite starter, main course, dessert and drink.<br> b) Concatenates these into an output a message which says: “Your favourite meal is  .........with a glass of....”"
      ]
    },
    {
      "cell_type": "code",
      "metadata": {
        "colab": {
          "base_uri": "https://localhost:8080/"
        },
        "id": "87XbA2X3Rf6E",
        "outputId": "29f6aa14-aca4-407b-df4d-c1de12d2a481"
      },
      "source": [
        "import string\r\n",
        "print(\"Welcome! What's your favourite meal?\\n\")\r\n",
        "starter = input('Starter: ') + ' to start,'\r\n",
        "mainCourse = ' followed by ' + input('Main Course: ')\r\n",
        "dessert = ' and ' + input('Dessert: ')\r\n",
        "drink = ' with a glass of ' + str(input('Drink: '))\r\n",
        "\r\n",
        "print('\\n\\nOK, so your favourite meal is:\\n' + starter.capitalize() + mainCourse.lower() + dessert.lower() + drink.lower() + '.')"
      ],
      "execution_count": 2,
      "outputs": [
        {
          "output_type": "stream",
          "text": [
            "Welcome! What's your favourite meal?\n",
            "\n",
            "Starter: Toasted Prawns and Doughballs\n",
            "Main Course: Lasagne\n",
            "Dessert: Creme Brule\n",
            "Drink: Rose Lemonade\n",
            "\n",
            "\n",
            "OK, so your favourite meal is:\n",
            "Toasted prawns and doughballs to start, followed by lasagne and creme brule with a glass of rose lemonade.\n"
          ],
          "name": "stdout"
        }
      ]
    }
  ]
}