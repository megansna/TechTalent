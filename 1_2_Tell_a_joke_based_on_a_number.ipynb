{
  "nbformat": 4,
  "nbformat_minor": 0,
  "metadata": {
    "colab": {
      "name": "1.2 Tell a joke based on a number",
      "provenance": [],
      "collapsed_sections": [],
      "toc_visible": true,
      "authorship_tag": "ABX9TyPHllIy7cq2/ep1QwiqFmH7",
      "include_colab_link": true
    },
    "kernelspec": {
      "name": "python3",
      "display_name": "Python 3"
    },
    "widgets": {
      "application/vnd.jupyter.widget-state+json": {
        "631bf6af0e3143a5b1de70125a8b3c19": {
          "model_module": "@jupyter-widgets/controls",
          "model_name": "VBoxModel",
          "state": {
            "_view_name": "VBoxView",
            "_dom_classes": [
              "widget-interact"
            ],
            "_model_name": "VBoxModel",
            "_view_module": "@jupyter-widgets/controls",
            "_model_module_version": "1.5.0",
            "_view_count": null,
            "_view_module_version": "1.5.0",
            "box_style": "",
            "layout": "IPY_MODEL_8a7d3b1212274e0380b7f51a2c59a4af",
            "_model_module": "@jupyter-widgets/controls",
            "children": [
              "IPY_MODEL_0949d7a432624fcab64bbf0b7e781aee",
              "IPY_MODEL_238220e05c6c4d58974d3abeabb85964"
            ]
          }
        },
        "8a7d3b1212274e0380b7f51a2c59a4af": {
          "model_module": "@jupyter-widgets/base",
          "model_name": "LayoutModel",
          "state": {
            "_view_name": "LayoutView",
            "grid_template_rows": null,
            "right": null,
            "justify_content": null,
            "_view_module": "@jupyter-widgets/base",
            "overflow": null,
            "_model_module_version": "1.2.0",
            "_view_count": null,
            "flex_flow": null,
            "width": null,
            "min_width": null,
            "border": null,
            "align_items": null,
            "bottom": null,
            "_model_module": "@jupyter-widgets/base",
            "top": null,
            "grid_column": null,
            "overflow_y": null,
            "overflow_x": null,
            "grid_auto_flow": null,
            "grid_area": null,
            "grid_template_columns": null,
            "flex": null,
            "_model_name": "LayoutModel",
            "justify_items": null,
            "grid_row": null,
            "max_height": null,
            "align_content": null,
            "visibility": null,
            "align_self": null,
            "height": null,
            "min_height": null,
            "padding": null,
            "grid_auto_rows": null,
            "grid_gap": null,
            "max_width": null,
            "order": null,
            "_view_module_version": "1.2.0",
            "grid_template_areas": null,
            "object_position": null,
            "object_fit": null,
            "grid_auto_columns": null,
            "margin": null,
            "display": null,
            "left": null
          }
        },
        "0949d7a432624fcab64bbf0b7e781aee": {
          "model_module": "@jupyter-widgets/controls",
          "model_name": "IntSliderModel",
          "state": {
            "_view_name": "IntSliderView",
            "style": "IPY_MODEL_f5637617b40b4a878baee9a506a6161d",
            "_dom_classes": [],
            "description": "x",
            "step": 1,
            "_model_name": "IntSliderModel",
            "orientation": "horizontal",
            "max": 100,
            "_view_module": "@jupyter-widgets/controls",
            "_model_module_version": "1.5.0",
            "value": 24,
            "_view_count": null,
            "disabled": false,
            "_view_module_version": "1.5.0",
            "min": 1,
            "continuous_update": true,
            "readout_format": "d",
            "description_tooltip": null,
            "readout": true,
            "_model_module": "@jupyter-widgets/controls",
            "layout": "IPY_MODEL_08bc7cea3dff43d2b893a7b255c1f124"
          }
        },
        "238220e05c6c4d58974d3abeabb85964": {
          "model_module": "@jupyter-widgets/output",
          "model_name": "OutputModel",
          "state": {
            "_view_name": "OutputView",
            "msg_id": "",
            "_dom_classes": [],
            "_model_name": "OutputModel",
            "outputs": [
              {
                "output_type": "stream",
                "metadata": {
                  "tags": []
                },
                "text": "\n\u001b[36mWhat do you call a fly with no wings?\u001b[0m\n\u001b[95mA walk.\u001b[0m\n",
                "stream": "stdout"
              }
            ],
            "_view_module": "@jupyter-widgets/output",
            "_model_module_version": "1.0.0",
            "_view_count": null,
            "_view_module_version": "1.0.0",
            "layout": "IPY_MODEL_d7ab967e55094fe398ad6c57cd8bd4c1",
            "_model_module": "@jupyter-widgets/output"
          }
        },
        "f5637617b40b4a878baee9a506a6161d": {
          "model_module": "@jupyter-widgets/controls",
          "model_name": "SliderStyleModel",
          "state": {
            "_view_name": "StyleView",
            "handle_color": null,
            "_model_name": "SliderStyleModel",
            "description_width": "",
            "_view_module": "@jupyter-widgets/base",
            "_model_module_version": "1.5.0",
            "_view_count": null,
            "_view_module_version": "1.2.0",
            "_model_module": "@jupyter-widgets/controls"
          }
        },
        "08bc7cea3dff43d2b893a7b255c1f124": {
          "model_module": "@jupyter-widgets/base",
          "model_name": "LayoutModel",
          "state": {
            "_view_name": "LayoutView",
            "grid_template_rows": null,
            "right": null,
            "justify_content": null,
            "_view_module": "@jupyter-widgets/base",
            "overflow": null,
            "_model_module_version": "1.2.0",
            "_view_count": null,
            "flex_flow": null,
            "width": null,
            "min_width": null,
            "border": null,
            "align_items": null,
            "bottom": null,
            "_model_module": "@jupyter-widgets/base",
            "top": null,
            "grid_column": null,
            "overflow_y": null,
            "overflow_x": null,
            "grid_auto_flow": null,
            "grid_area": null,
            "grid_template_columns": null,
            "flex": null,
            "_model_name": "LayoutModel",
            "justify_items": null,
            "grid_row": null,
            "max_height": null,
            "align_content": null,
            "visibility": null,
            "align_self": null,
            "height": null,
            "min_height": null,
            "padding": null,
            "grid_auto_rows": null,
            "grid_gap": null,
            "max_width": null,
            "order": null,
            "_view_module_version": "1.2.0",
            "grid_template_areas": null,
            "object_position": null,
            "object_fit": null,
            "grid_auto_columns": null,
            "margin": null,
            "display": null,
            "left": null
          }
        },
        "d7ab967e55094fe398ad6c57cd8bd4c1": {
          "model_module": "@jupyter-widgets/base",
          "model_name": "LayoutModel",
          "state": {
            "_view_name": "LayoutView",
            "grid_template_rows": null,
            "right": null,
            "justify_content": null,
            "_view_module": "@jupyter-widgets/base",
            "overflow": null,
            "_model_module_version": "1.2.0",
            "_view_count": null,
            "flex_flow": null,
            "width": null,
            "min_width": null,
            "border": null,
            "align_items": null,
            "bottom": null,
            "_model_module": "@jupyter-widgets/base",
            "top": null,
            "grid_column": null,
            "overflow_y": null,
            "overflow_x": null,
            "grid_auto_flow": null,
            "grid_area": null,
            "grid_template_columns": null,
            "flex": null,
            "_model_name": "LayoutModel",
            "justify_items": null,
            "grid_row": null,
            "max_height": null,
            "align_content": null,
            "visibility": null,
            "align_self": null,
            "height": null,
            "min_height": null,
            "padding": null,
            "grid_auto_rows": null,
            "grid_gap": null,
            "max_width": null,
            "order": null,
            "_view_module_version": "1.2.0",
            "grid_template_areas": null,
            "object_position": null,
            "object_fit": null,
            "grid_auto_columns": null,
            "margin": null,
            "display": null,
            "left": null
          }
        }
      }
    }
  },
  "cells": [
    {
      "cell_type": "markdown",
      "metadata": {
        "id": "view-in-github",
        "colab_type": "text"
      },
      "source": [
        "<a href=\"https://colab.research.google.com/github/megansna/TechTalent/blob/main/1_2_Tell_a_joke_based_on_a_number.ipynb\" target=\"_parent\"><img src=\"https://colab.research.google.com/assets/colab-badge.svg\" alt=\"Open In Colab\"/></a>"
      ]
    },
    {
      "cell_type": "markdown",
      "metadata": {
        "id": "o0TMVs6bQKvq"
      },
      "source": [
        "# <font color=blue>Week 1</font>  \r\n",
        "### **Task 2**\r\n",
        "**Write a program that:<br>**\r\n",
        "> a) Asks a user for their favourite number between 1 and 100.<br>\r\n",
        "> b) Tells them a joke based on the number.<br>c)You should use a minimum of 3 jokes."
      ]
    },
    {
      "cell_type": "code",
      "metadata": {
        "colab": {
          "base_uri": "https://localhost:8080/",
          "height": 132,
          "referenced_widgets": [
            "631bf6af0e3143a5b1de70125a8b3c19",
            "8a7d3b1212274e0380b7f51a2c59a4af",
            "0949d7a432624fcab64bbf0b7e781aee",
            "238220e05c6c4d58974d3abeabb85964",
            "f5637617b40b4a878baee9a506a6161d",
            "08bc7cea3dff43d2b893a7b255c1f124",
            "d7ab967e55094fe398ad6c57cd8bd4c1"
          ]
        },
        "id": "IP4Vvy14jhRW",
        "outputId": "0e877d92-ff59-4426-cc03-9927bfb69668"
      },
      "source": [
        "import ipywidgets as widgets\r\n",
        "from ipywidgets import HBox, VBox\r\n",
        "import numpy as np\r\n",
        "import matplotlib.pyplot as plt\r\n",
        "from IPython.display import display\r\n",
        "%matplotlib inline\r\n",
        "\r\n",
        "# define jokes\r\n",
        "def jokeNum1():\r\n",
        "  print(\"\\n\\033[36mWhat do you call a fly with no wings?\\033[0m\\n\\033[95mA walk.\\033[0m\")\r\n",
        "def jokeNum2():\r\n",
        "  print(\"\\n\\033[36mDon't use 'beef stew' as a computer password.\\033[0m\\n\\033[95mIt's not stroganoff...\\033[0m\")\r\n",
        "def jokeNum3():\r\n",
        "  print(\"\\n\\033[36mRan out of toilet paper and started using lettuce leaves.\\033[0m\\n\\033[95mToday was just the tip of the iceberg, tomorrow romaines to be seen!\\033[0m\")\r\n",
        "\r\n",
        "print('Let me tell you a joke.\\nPick your favourie number below:')\r\n",
        "\r\n",
        "@widgets.interact\r\n",
        "def f(x=(1,100)):\r\n",
        "  if (x % 3) == 0:\r\n",
        "      jokeNum1()\r\n",
        "  elif (x % 2) == 0:\r\n",
        "      jokeNum2()\r\n",
        "  elif (x % 1) == 0:\r\n",
        "      jokeNum3()"
      ],
      "execution_count": 92,
      "outputs": [
        {
          "output_type": "stream",
          "text": [
            "Let me tell you a joke.\n",
            "Pick your favourie number below:\n"
          ],
          "name": "stdout"
        },
        {
          "output_type": "display_data",
          "data": {
            "application/vnd.jupyter.widget-view+json": {
              "model_id": "631bf6af0e3143a5b1de70125a8b3c19",
              "version_minor": 0,
              "version_major": 2
            },
            "text/plain": [
              "interactive(children=(IntSlider(value=50, description='x', min=1), Output()), _dom_classes=('widget-interact',…"
            ]
          },
          "metadata": {
            "tags": []
          }
        }
      ]
    }
  ]
}