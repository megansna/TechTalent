{
  "nbformat": 4,
  "nbformat_minor": 0,
  "metadata": {
    "colab": {
      "name": "PythonTask-2-2-ToDo",
      "provenance": [],
      "authorship_tag": "ABX9TyNr07ivEWCkBcgtFUUDFV6i",
      "include_colab_link": true
    },
    "kernelspec": {
      "name": "python3",
      "display_name": "Python 3"
    }
  },
  "cells": [
    {
      "cell_type": "markdown",
      "metadata": {
        "id": "view-in-github",
        "colab_type": "text"
      },
      "source": [
        "<a href=\"https://colab.research.google.com/github/megansna/TechTalent/blob/main/PythonTask_2_2_ToDo.ipynb\" target=\"_parent\"><img src=\"https://colab.research.google.com/assets/colab-badge.svg\" alt=\"Open In Colab\"/></a>"
      ]
    },
    {
      "cell_type": "markdown",
      "metadata": {
        "id": "krz4JWCnVihl"
      },
      "source": [
        "# <font color=blue>Week 2</font>  \r\n",
        "### **Task 2**<br>\r\n",
        "As an extension to the motorbike task that costs £2000 and loses 10% of its value every year use a loop to print the value of the bike every following year until it falls below £1000. \r\n",
        "\r\n",
        "Perform the calculation by using a function and passing parameters."
      ]
    },
    {
      "cell_type": "code",
      "metadata": {
        "id": "P7sHZVBjVa5z"
      },
      "source": [
        ""
      ],
      "execution_count": null,
      "outputs": []
    }
  ]
}