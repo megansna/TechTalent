{
  "nbformat": 4,
  "nbformat_minor": 0,
  "metadata": {
    "colab": {
      "name": "1.3 Restaurant Menu",
      "provenance": [],
      "collapsed_sections": [],
      "authorship_tag": "ABX9TyNz0Eezf6+OpirmI81VMQSF",
      "include_colab_link": true
    },
    "kernelspec": {
      "name": "python3",
      "display_name": "Python 3"
    }
  },
  "cells": [
    {
      "cell_type": "markdown",
      "metadata": {
        "id": "view-in-github",
        "colab_type": "text"
      },
      "source": [
        "<a href=\"https://colab.research.google.com/github/megansna/TechTalent/blob/main/1_3_Restaurant_Menu.ipynb\" target=\"_parent\"><img src=\"https://colab.research.google.com/assets/colab-badge.svg\" alt=\"Open In Colab\"/></a>"
      ]
    },
    {
      "cell_type": "markdown",
      "metadata": {
        "id": "EHo5gFDdRYSJ"
      },
      "source": [
        "# <font color=blue>Week 2</font>  \r\n",
        "#### **Task 3**\r\n",
        "Write a program that:<br>\r\n",
        "> a) Allows a user to enter their favourite starter, main course, dessert and drink.<br> b) Concatenates these into an output a message which says: “Your favourite meal is  .........with a glass of....”"
      ]
    },
    {
      "cell_type": "code",
      "metadata": {
        "id": "ZmRDqP9vA_tY"
      },
      "source": [
        "import string\r\n",
        "print(\"Welcome! What's your favourite meal?\\n\")\r\n",
        "starter = input('Starter: ') + ' to start,'\r\n",
        "mainCourse = ' followed by ' + input('Main Course: ')\r\n",
        "dessert = ' and ' + input('Dessert: ')\r\n",
        "drink = ' with a glass of ' + str(input('Drink: '))\r\n",
        "\r\n",
        "print('\\n\\nOK, so your favourite meal is:\\n' + starter.capitalize() + mainCourse.lower() + dessert.lower() + drink.lower() + '.')"
      ],
      "execution_count": null,
      "outputs": []
    }
  ]
}