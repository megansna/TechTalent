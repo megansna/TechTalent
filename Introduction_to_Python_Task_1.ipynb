{
  "nbformat": 4,
  "nbformat_minor": 0,
  "metadata": {
    "colab": {
      "name": "Introduction to Python - Task 1.ipynb",
      "provenance": []
    },
    "kernelspec": {
      "name": "python3",
      "display_name": "Python 3"
    }
  },
  "cells": [
    {
      "cell_type": "markdown",
      "metadata": {
        "id": "1O29H1pEBRNw"
      },
      "source": [
        "**Write a program that does the following:**\r\n",
        "1.   Stores a random number (1-10) in a variable\r\n",
        "2.   Asks a user for their name and stores this in a variable.\r\n",
        "3.   Asks a user to guess the number between 1 and 10.\r\n",
        "4.   Tells the user whether they have guessed correctly."
      ]
    },
    {
      "cell_type": "code",
      "metadata": {
        "colab": {
          "base_uri": "https://localhost:8080/"
        },
        "id": "6_hhwQo3BGjv",
        "outputId": "31f2ba93-2532-4c28-f967-e97301be1cbd"
      },
      "source": [
        "import random\r\n",
        "myName = input(\"Hi! What is your name? \")\r\n",
        "number = random.randint(1, 10)\r\n",
        "count = 1\r\n",
        "\r\n",
        "print(\"\\nOK \" + myName.capitalize() + \", I am thinking of a number between 1 and 10.\")\r\n",
        "guess = int(input(\"\\nWhat do you think it is? You have 3 guesses:\\n\\nGuess \" + str(count) + \" of 3:\\t\") )\r\n",
        "if guess == number:\r\n",
        "            print(\"\\nCorrect! The answer is \" + str(number) + \", good job.\")\r\n",
        "            \r\n",
        "while count < 3 and guess != number:\r\n",
        "        guess = int(input(\"\\nGuess \" + str(count+1) + \" of 3:\\t\"))\r\n",
        "        count +=1    \r\n",
        "        if guess == number:\r\n",
        "            print(\"\\nCorrect! The answer is \" + str(number) + \", good job.\")\r\n",
        "            break\r\n",
        "            \r\n",
        "        if count ==3 and guess != number:\r\n",
        "              print(\"\\nOh no! The answer was \" + str(number) + \". \\nBetter luck next time.\")"
      ],
      "execution_count": null,
      "outputs": [
        {
          "output_type": "stream",
          "text": [
            "Hi! What is your name? Megan\n",
            "\n",
            "OK Megan, I am thinking of a number between 1 and 10.\n",
            "\n",
            "What do you think it is? You have 3 guesses:\n",
            "\n",
            "Guess 1 of 3:\t3\n",
            "\n",
            "Guess 2 of 3:\t1\n",
            "\n",
            "Guess 3 of 3:\t100\n",
            "\n",
            "Oh no! The answer was 5. \n",
            "Better luck next time.\n"
          ],
          "name": "stdout"
        }
      ]
    }
  ]
}