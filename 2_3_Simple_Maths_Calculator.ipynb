{
  "nbformat": 4,
  "nbformat_minor": 0,
  "metadata": {
    "colab": {
      "name": "2_3_Simple Maths Calculator",
      "provenance": [],
      "authorship_tag": "ABX9TyOyudAT9YXmnwYYCYeyZDHZ",
      "include_colab_link": true
    },
    "kernelspec": {
      "name": "python3",
      "display_name": "Python 3"
    },
    "widgets": {
      "application/vnd.jupyter.widget-state+json": {
        "9d1fcae9fcde493aab10880f7df17b84": {
          "model_module": "@jupyter-widgets/controls",
          "model_name": "DropdownModel",
          "state": {
            "_options_labels": [
              "",
              "Add",
              "Multiply",
              "Subtract",
              "Divide"
            ],
            "_view_name": "DropdownView",
            "style": "IPY_MODEL_dddd5f06272a452594618a6b164bbe5c",
            "_dom_classes": [],
            "description": "Select:",
            "_model_name": "DropdownModel",
            "index": 4,
            "_view_module": "@jupyter-widgets/controls",
            "_model_module_version": "1.5.0",
            "_view_count": null,
            "disabled": false,
            "_view_module_version": "1.5.0",
            "description_tooltip": null,
            "_model_module": "@jupyter-widgets/controls",
            "layout": "IPY_MODEL_18e008ab3ddd4c98b4b9340ad9626435"
          }
        },
        "dddd5f06272a452594618a6b164bbe5c": {
          "model_module": "@jupyter-widgets/controls",
          "model_name": "DescriptionStyleModel",
          "state": {
            "_view_name": "StyleView",
            "_model_name": "DescriptionStyleModel",
            "description_width": "",
            "_view_module": "@jupyter-widgets/base",
            "_model_module_version": "1.5.0",
            "_view_count": null,
            "_view_module_version": "1.2.0",
            "_model_module": "@jupyter-widgets/controls"
          }
        },
        "18e008ab3ddd4c98b4b9340ad9626435": {
          "model_module": "@jupyter-widgets/base",
          "model_name": "LayoutModel",
          "state": {
            "_view_name": "LayoutView",
            "grid_template_rows": null,
            "right": null,
            "justify_content": null,
            "_view_module": "@jupyter-widgets/base",
            "overflow": null,
            "_model_module_version": "1.2.0",
            "_view_count": null,
            "flex_flow": null,
            "width": null,
            "min_width": null,
            "border": null,
            "align_items": null,
            "bottom": null,
            "_model_module": "@jupyter-widgets/base",
            "top": null,
            "grid_column": null,
            "overflow_y": null,
            "overflow_x": null,
            "grid_auto_flow": null,
            "grid_area": null,
            "grid_template_columns": null,
            "flex": null,
            "_model_name": "LayoutModel",
            "justify_items": null,
            "grid_row": null,
            "max_height": null,
            "align_content": null,
            "visibility": null,
            "align_self": null,
            "height": null,
            "min_height": null,
            "padding": null,
            "grid_auto_rows": null,
            "grid_gap": null,
            "max_width": null,
            "order": null,
            "_view_module_version": "1.2.0",
            "grid_template_areas": null,
            "object_position": null,
            "object_fit": null,
            "grid_auto_columns": null,
            "margin": null,
            "display": null,
            "left": null
          }
        }
      }
    }
  },
  "cells": [
    {
      "cell_type": "markdown",
      "metadata": {
        "id": "view-in-github",
        "colab_type": "text"
      },
      "source": [
        "<a href=\"https://colab.research.google.com/github/megansna/TechTalent/blob/main/2_3_Simple_Maths_Calculator.ipynb\" target=\"_parent\"><img src=\"https://colab.research.google.com/assets/colab-badge.svg\" alt=\"Open In Colab\"/></a>"
      ]
    },
    {
      "cell_type": "markdown",
      "metadata": {
        "id": "j0PeqduhSGoH"
      },
      "source": [
        "# <font color=blue>Week 2</font>  \r\n",
        "### Task 3  \r\n",
        "**Write a program which:**<br>\r\n",
        "a) Will ask for two numbers from a user.  \r\n",
        "b) Then offer a menu to the user giving them a choice of maths operators.  \r\n",
        "c) Once the user has selected which operator they wish to use.  \r\n",
        "\r\n",
        "Perform the calculation by using a procedure and passing parameters."
      ]
    },
    {
      "cell_type": "code",
      "metadata": {
        "colab": {
          "base_uri": "https://localhost:8080/",
          "height": 266,
          "referenced_widgets": [
            "9d1fcae9fcde493aab10880f7df17b84",
            "dddd5f06272a452594618a6b164bbe5c",
            "18e008ab3ddd4c98b4b9340ad9626435"
          ]
        },
        "id": "zdRbbGUuMfnQ",
        "outputId": "63cd8e3c-4090-44ed-9e49-27aba924645d"
      },
      "source": [
        "from __future__ import print_function\r\n",
        "from ipywidgets import interact, interactive, fixed, interact_manual\r\n",
        "import ipywidgets as widgets\r\n",
        "\r\n",
        "# This function adds two numbers\r\n",
        "def add(x, y):\r\n",
        "    return x + y\r\n",
        "\r\n",
        "# This function subtracts two numbers\r\n",
        "def subtract(x, y):\r\n",
        "    return x - y\r\n",
        "\r\n",
        "# This function multiplies two numbers\r\n",
        "def multiply(x, y):\r\n",
        "    return x * y\r\n",
        "\r\n",
        "# This function divides two numbers\r\n",
        "def divide(x, y):\r\n",
        "    return x / y\r\n",
        "\r\n",
        "# The function enables the user to choose two number between 1 and 100\r\n",
        "num1=12\r\n",
        "num2=4 \r\n",
        "num1 = input(\"OK then, we're going to choose 2 numbers and then perform some maths.\\nPick number one: \")\r\n",
        "\r\n",
        "while not num1.isnumeric() or 1 > int(num1) or 100 < int(num1):\r\n",
        "    num1 = input(\"\\nThat doesn't look right.\\nPlease enter a whole number between 1 and 100: \")\r\n",
        "else:\r\n",
        "    num2 = input(\"\\nExcellent!\\nPick number two: \")\r\n",
        "\r\n",
        "    while not num2.isnumeric() or 1 > int(num2) or 100 < int(num2):\r\n",
        "        num2 = input(\"\\nThat doesn't look right.\\nPlease enter a whole number between 1 and 100: \") \r\n",
        "\r\n",
        "# This function offers a drop down widget to choose a maths operator\r\n",
        "print(\"\\nYou're almost there Einstein!\\nPick a maths operator to finish.\\n\")\r\n",
        "w = widgets.Dropdown(\r\n",
        "    options=['','Add', 'Multiply', 'Subtract', 'Divide'],\r\n",
        "    value='',\r\n",
        "    description='Select:',\r\n",
        ")\r\n",
        "\r\n",
        "def on_change(change):\r\n",
        "  if change['type'] == 'change' and change['name'] == 'value':\r\n",
        "        w=str(\" %s \"%change['new'])\r\n",
        "        if 'Add' in w:\r\n",
        "          print(num1, \"+\", num2, \"=\", add(int(num1), int(num2)))\r\n",
        "\r\n",
        "        elif 'Subtract' in w:\r\n",
        "          print(num1, \"-\", num2, \"=\", subtract(int(num1), int(num2)))\r\n",
        "\r\n",
        "        elif 'Multiply' in w:\r\n",
        "          print(num1, \"*\", num2, \"=\", multiply(int(num1), int(num2)))\r\n",
        "\r\n",
        "        elif 'Divide' in w:\r\n",
        "          print(num1, \"/\", num2, \"=\", \"{:.2f}\".format(divide(int(num1), int(num2))))\r\n",
        "w.observe(on_change)\r\n",
        "display(w)\r\n",
        "\r\n",
        "\r\n",
        "\r\n"
      ],
      "execution_count": 11,
      "outputs": [
        {
          "output_type": "stream",
          "text": [
            "OK then, we're going to choose 2 numbers and then perform some maths.\n",
            "Pick number one: 1\n",
            "\n",
            "Excellent!\n",
            "Pick number two: 99\n",
            "\n",
            "You're almost there Einstein!\n",
            "Pick a maths operator to finish.\n",
            "\n"
          ],
          "name": "stdout"
        },
        {
          "output_type": "display_data",
          "data": {
            "application/vnd.jupyter.widget-view+json": {
              "model_id": "9d1fcae9fcde493aab10880f7df17b84",
              "version_minor": 0,
              "version_major": 2
            },
            "text/plain": [
              "Dropdown(description='Select:', options=('', 'Add', 'Multiply', 'Subtract', 'Divide'), value='')"
            ]
          },
          "metadata": {
            "tags": []
          }
        },
        {
          "output_type": "stream",
          "text": [
            "1 - 99 = -98\n",
            "1 + 99 = 100\n",
            "1 * 99 = 99\n",
            "1 / 99 = 0.01\n"
          ],
          "name": "stdout"
        }
      ]
    }
  ]
}