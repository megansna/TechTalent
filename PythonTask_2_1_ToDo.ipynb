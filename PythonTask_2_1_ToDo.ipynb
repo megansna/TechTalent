{
  "nbformat": 4,
  "nbformat_minor": 0,
  "metadata": {
    "colab": {
      "name": "PythonTask-2-1 (To Do)",
      "provenance": [],
      "authorship_tag": "ABX9TyN1xO0ZIcKfs1i0neycUi34",
      "include_colab_link": true
    },
    "kernelspec": {
      "name": "python3",
      "display_name": "Python 3"
    }
  },
  "cells": [
    {
      "cell_type": "markdown",
      "metadata": {
        "id": "view-in-github",
        "colab_type": "text"
      },
      "source": [
        "<a href=\"https://colab.research.google.com/github/megansna/TechTalent/blob/main/PythonTask_2_1_ToDo.ipynb\" target=\"_parent\"><img src=\"https://colab.research.google.com/assets/colab-badge.svg\" alt=\"Open In Colab\"/></a>"
      ]
    },
    {
      "cell_type": "code",
      "metadata": {
        "id": "Yk9nK5a4U-74"
      },
      "source": [
        ""
      ],
      "execution_count": null,
      "outputs": []
    },
    {
      "cell_type": "markdown",
      "metadata": {
        "id": "oVOWV3NbU_U2"
      },
      "source": [
        "# <font color=blue>Week 2</font>  \r\n",
        "### Task 1\r\n",
        "**Create your own Data Flow Diagram (DFD) based on a subject of\r\n",
        "your own choice and convert it into code**<br>\r\n",
        "*e.g. Fast food order*"
      ]
    },
    {
      "cell_type": "code",
      "metadata": {
        "id": "zZ1Ymuq1VI0g"
      },
      "source": [
        ""
      ],
      "execution_count": null,
      "outputs": []
    }
  ]
}