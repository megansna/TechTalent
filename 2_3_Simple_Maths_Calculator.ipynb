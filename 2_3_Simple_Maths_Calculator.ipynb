{
  "nbformat": 4,
  "nbformat_minor": 0,
  "metadata": {
    "colab": {
      "name": "2-3_Simple_Maths_Calcuator",
      "provenance": [],
      "authorship_tag": "ABX9TyO/rzxI6pzOZS/A/l4R2stU",
      "include_colab_link": true
    },
    "kernelspec": {
      "name": "python3",
      "display_name": "Python 3"
    }
  },
  "cells": [
    {
      "cell_type": "markdown",
      "metadata": {
        "id": "view-in-github",
        "colab_type": "text"
      },
      "source": [
        "<a href=\"https://colab.research.google.com/github/megansna/TechTalent/blob/main/2-3_Simple_Maths_Calcuator.ipynb\" target=\"_parent\"><img src=\"https://colab.research.google.com/assets/colab-badge.svg\" alt=\"Open In Colab\"/></a>"
      ]
    },
    {
      "cell_type": "markdown",
      "metadata": {
        "id": "XHEOHIF9WJeI"
      },
      "source": [
        "# <font color=blue>Week 2</font>  \r\n",
        "### Task 3  \r\n",
        "**Write a program which:**<br>\r\n",
        "a) Will ask for two numbers from a user.  \r\n",
        "b) Then offer a menu to the user giving them a choice of maths operators.  \r\n",
        "c) Once the user has selected which operator they wish to use.  \r\n",
        "\r\n",
        "Perform the calculation by using a procedure and passing parameters."
      ]
    },
    {
      "cell_type": "code",
      "metadata": {
        "id": "30vQE5KYWI5q"
      },
      "source": [
        ""
      ],
      "execution_count": null,
      "outputs": []
    }
  ]
}
