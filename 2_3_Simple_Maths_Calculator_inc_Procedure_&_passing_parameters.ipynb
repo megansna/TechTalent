{
  "nbformat": 4,
  "nbformat_minor": 0,
  "metadata": {
    "colab": {
      "name": "2.3 Simple Maths Calculator inc. Procedure & passing parameters",
      "provenance": [],
      "collapsed_sections": [],
      "authorship_tag": "ABX9TyMYMLXqxL7RdJW/E2KwfWRn",
      "include_colab_link": true
    },
    "kernelspec": {
      "name": "python3",
      "display_name": "Python 3"
    }
  },
  "cells": [
    {
      "cell_type": "markdown",
      "metadata": {
        "id": "view-in-github",
        "colab_type": "text"
      },
      "source": [
        "<a href=\"https://colab.research.google.com/github/megansna/TechTalent/blob/main/2_3_Simple_Maths_Calculator_inc_Procedure_%26_passing_parameters.ipynb\" target=\"_parent\"><img src=\"https://colab.research.google.com/assets/colab-badge.svg\" alt=\"Open In Colab\"/></a>"
      ]
    },
    {
      "cell_type": "markdown",
      "metadata": {
        "id": "XHEOHIF9WJeI"
      },
      "source": [
        "# <font color=blue>Week 2</font>  \r\n",
        "### Task 3  \r\n",
        "**Write a program which:**<br>\r\n",
        "a) Will ask for two numbers from a user.  \r\n",
        "b) Then offer a menu to the user giving them a choice of maths operators.  \r\n",
        "c) Once the user has selected which operator they wish to use.  \r\n",
        "\r\n",
        "Perform the calculation by using a procedure and passing parameters."
      ]
    },
    {
      "cell_type": "code",
      "metadata": {
        "id": "2Jym9-J4_MDI"
      },
      "source": [
        "from __future__ import print_function\r\n",
        "from ipywidgets import interact, interactive, fixed, interact_manual\r\n",
        "import ipywidgets as widgets\r\n",
        "\r\n",
        "def maths():\r\n",
        "\r\n",
        "  # This function adds two numbers\r\n",
        "  def add(x, y):\r\n",
        "      return x + y\r\n",
        "\r\n",
        "  # This function subtracts two numbers\r\n",
        "  def subtract(x, y):\r\n",
        "      return x - y\r\n",
        "\r\n",
        "  # This function multiplies two numbers\r\n",
        "  def multiply(x, y):\r\n",
        "      return x * y\r\n",
        "\r\n",
        "  # This function divides two numbers\r\n",
        "  def divide(x, y):\r\n",
        "      return x / y\r\n",
        "\r\n",
        "  # The function enables the user to choose two numbers between 1 and 100\r\n",
        "  num1 = input(\"\\nPick number one: \")\r\n",
        "\r\n",
        "  while not num1.isnumeric() or 1 > int(num1) or 100 < int(num1):\r\n",
        "      num1 = input(\"\\nThat doesn't look right.\\nPlease enter a whole number between 1 and 100: \")\r\n",
        "  else:\r\n",
        "      num2 = input(\"Pick number two: \")\r\n",
        "\r\n",
        "      while not num2.isnumeric() or 1 > int(num2) or 100 < int(num2):\r\n",
        "          num2 = input(\"\\nThat doesn't look right.\\nPlease enter a whole number between 1 and 100: \") \r\n",
        "\r\n",
        "  # This function offers a drop down widget to choose a maths operator\r\n",
        "  print(\"\\nPick a maths operator to finish.\\n\")\r\n",
        "  w = widgets.Dropdown(\r\n",
        "      options=['','Add', 'Multiply', 'Subtract', 'Divide'],\r\n",
        "      value='',\r\n",
        "      description='Select:',\r\n",
        "  )\r\n",
        "  # This function performs the calculation each time a new operator is selected from the widget\r\n",
        "  def on_change(change):\r\n",
        "    if change['type'] == 'change' and change['name'] == 'value':\r\n",
        "          w=str(\" %s \"%change['new'])\r\n",
        "          if 'Add' in w:\r\n",
        "            print(num1, \"+\", num2, \"=\", add(int(num1), int(num2)))\r\n",
        "\r\n",
        "          elif 'Subtract' in w:\r\n",
        "            print(num1, \"-\", num2, \"=\", subtract(int(num1), int(num2)))\r\n",
        "\r\n",
        "          elif 'Multiply' in w:\r\n",
        "            print(num1, \"*\", num2, \"=\", multiply(int(num1), int(num2)))\r\n",
        "\r\n",
        "          elif 'Divide' in w:\r\n",
        "            print(num1, \"/\", num2, \"=\", \"{:.2f}\".format(divide(int(num1), int(num2))))\r\n",
        "  w.observe(on_change)\r\n",
        "  display(w)\r\n",
        "\r\n",
        "# Start procedure\r\n",
        "print(\"OK then, we're going to choose 2 numbers and then perform some maths\")\r\n",
        "maths()"
      ],
      "execution_count": null,
      "outputs": []
    }
  ]
}