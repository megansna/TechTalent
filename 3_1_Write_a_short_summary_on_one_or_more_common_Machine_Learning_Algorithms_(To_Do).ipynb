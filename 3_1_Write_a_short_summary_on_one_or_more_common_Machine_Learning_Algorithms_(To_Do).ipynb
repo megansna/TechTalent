{
  "nbformat": 4,
  "nbformat_minor": 0,
  "metadata": {
    "colab": {
      "name": "3 1 Write a short summary on one or more common Machine Learning Algorithms (To Do)",
      "provenance": [],
      "authorship_tag": "ABX9TyOUkcfccKFbm75cW71/9ZT+",
      "include_colab_link": true
    },
    "kernelspec": {
      "name": "python3",
      "display_name": "Python 3"
    }
  },
  "cells": [
    {
      "cell_type": "markdown",
      "metadata": {
        "id": "view-in-github",
        "colab_type": "text"
      },
      "source": [
        "<a href=\"https://colab.research.google.com/github/megansna/TechTalent/blob/main/3_1_Write_a_short_summary_on_one_or_more_common_Machine_Learning_Algorithms_(To_Do).ipynb\" target=\"_parent\"><img src=\"https://colab.research.google.com/assets/colab-badge.svg\" alt=\"Open In Colab\"/></a>"
      ]
    },
    {
      "cell_type": "markdown",
      "metadata": {
        "id": "-r8ZYrTvbMa9"
      },
      "source": [
        "###**Write a short summary on one or more common Machine Learning Algorithms:**\r\n",
        "* Linear Regression\r\n",
        "* Logistic Regression\r\n",
        "* Decision Tree\r\n",
        "* SVM (Support Vector Machine)\r\n",
        "* Naive Bayes\r\n",
        "* KNN (K- Nearest Neighbours)\r\n",
        "* K-Means\r\n",
        "* Random Forest\r\n",
        "\r\n",
        "###**Make sure to include:<break>**\r\n",
        "\r\n",
        "1. Is it Supervised/Unsupervised/Reinforcement learning?\r\n",
        "2. What does the algorithm do?\r\n",
        "3. In which situations will it be most useful?\r\n",
        "4. Can you find any examples of where this algorithm has been used? *(Optional)*"
      ]
    }
  ]
}