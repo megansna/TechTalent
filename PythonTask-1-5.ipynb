{
  "nbformat": 4,
  "nbformat_minor": 0,
  "metadata": {
    "colab": {
      "name": "PythonTask1.5",
      "provenance": [],
      "authorship_tag": "ABX9TyMFY/q/Rg/33n5y+qnUD14q",
      "include_colab_link": true
    },
    "kernelspec": {
      "name": "python3",
      "display_name": "Python 3"
    }
  },
  "cells": [
    {
      "cell_type": "markdown",
      "metadata": {
        "id": "view-in-github",
        "colab_type": "text"
      },
      "source": [
        "<a href=\"https://colab.research.google.com/github/megansna/TechTalent/blob/main/PythonTask1'5.ipynb\" target=\"_parent\"><img src=\"https://colab.research.google.com/assets/colab-badge.svg\" alt=\"Open In Colab\"/></a>"
      ]
    },
    {
      "cell_type": "markdown",
      "metadata": {
        "id": "1qKz74iqTJBE"
      },
      "source": [
        "### Task 1.5\r\n",
        "**Write a program which:**  \r\n",
        "> a) Will ask for two numbers from a user.  \r\n",
        "b) Then offer a menu to the user giving them a choice of operator:<br>*e.g. Enter “a” if you want to add “b” if you want to subtract*  \r\n",
        "> c) Include +, -, /, \\*, \\** (to the power of) and square.  \r\n",
        "d) Once the user has selected which operator they wish to use, perform the calculation."
      ]
    },
    {
      "cell_type": "code",
      "metadata": {
        "id": "0QZ4kzrzTH4L"
      },
      "source": [
        "#THIS ONE WORKS!\r\n",
        "no1 = input(\"OK then, we're going to choose 2 numbers and then perform some maths.\\nPick number 1: \")\r\n",
        "while not no1.isnumeric():\r\n",
        "    no1 = input(\"\\nThat doesn't look right.\\nPlease enter a whole number between 1 and 100: \")\r\n",
        "else:\r\n",
        "    while not int(no1) >= 1 and not int(no1) <= 100:\r\n",
        "        no1 = input(\"\\nThat doesn't look right.\\nPlease enter a whole number between 1 and 100: \")"
      ],
      "execution_count": null,
      "outputs": []
    },
    {
      "cell_type": "code",
      "metadata": {
        "id": "-Su2YpUcTTaT"
      },
      "source": [
        "def checkNo():\r\n",
        "    newNo = input(\"Pick number 1: \")\r\n",
        "    while not newNo.isnumeric():\r\n",
        "        newNo = input(\"\\nThat doesn't look right.\\nPlease enter a whole number between 1 and 100: \")\r\n",
        "    else:\r\n",
        "        while not int(checkNo) >= 1 and int(newNo) <= 100:\r\n",
        "            newNo = input(\"\\nThat doesn't look right.\\nPlease enter a whole number between 1 and 100: \")\r\n",
        "\r\n",
        "print(\"OK then, we're going to choose 2 numbers and then perform some maths.\\n\")\r\n",
        "\r\n",
        "\r\n",
        "#QUERY: How to import checkNo from def to main code"
      ],
      "execution_count": null,
      "outputs": []
    }
  ]
}
