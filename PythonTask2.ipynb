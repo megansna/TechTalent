{
  "nbformat": 4,
  "nbformat_minor": 0,
  "metadata": {
    "colab": {
      "name": "PythonTask2",
      "provenance": [],
      "authorship_tag": "ABX9TyN0gPIeXqdqh1uTVreQE0le",
      "include_colab_link": true
    },
    "kernelspec": {
      "name": "python3",
      "display_name": "Python 3"
    }
  },
  "cells": [
    {
      "cell_type": "markdown",
      "metadata": {
        "id": "view-in-github",
        "colab_type": "text"
      },
      "source": [
        "<a href=\"https://colab.research.google.com/github/megansna/TechTalent/blob/main/PythonTask2.ipynb\" target=\"_parent\"><img src=\"https://colab.research.google.com/assets/colab-badge.svg\" alt=\"Open In Colab\"/></a>"
      ]
    },
    {
      "cell_type": "markdown",
      "metadata": {
        "id": "o0TMVs6bQKvq"
      },
      "source": [
        "### Task 2\r\n",
        "**Write a program that:<br>**\r\n",
        "> a) Asks a user for their favourite number between 1 and 100.<br>\r\n",
        "> b) Tells them a joke based on the number.<br>c)You should use a minimum of 3 jokes."
      ]
    },
    {
      "cell_type": "code",
      "metadata": {
        "id": "aVFCBHBoQFfo"
      },
      "source": [
        "# define functions\r\n",
        "\r\n",
        "anotherOne = 'yes'\r\n",
        "favNum = 0\r\n",
        "\r\n",
        "def requestJoke():\r\n",
        "    # Ask a user for their favourite number between 1 and 100\r\n",
        "    favNum = input('\\033[1mLet me tell you a joke.\\033[0m\\nPick a number between 1 and 100 to select a joke: ')\r\n",
        "    while not favNum.isnumeric():\r\n",
        "        favNum = input(\"\\nThat doesn't look right.\\nPlease enter a whole number between 1 and 100: \")\r\n",
        "    else:\r\n",
        "        while not int(favNum) >= 1 and int(favNum) <= 100:\r\n",
        "            favNum = input(\"\\nThat doesn't look right.\\nPlease enter a whole number between 1 and 100: \")   \r\n",
        "        \r\n",
        "def generateJoke():\r\n",
        "            # Tell a joke based on a number.\r\n",
        "            if (favNum % 3) == 0:\r\n",
        "                print('Joke No.1')\r\n",
        "                anotherOne()\r\n",
        "            elif (favNum % 2) == 0:\r\n",
        "                print ('Joke No.2')\r\n",
        "                anotherOne()\r\n",
        "            elif (favNum % 1) == 0:\r\n",
        "                print ('Joke No.3')\r\n",
        "                anotherOne()\r\n",
        "\r\n",
        "def anotherOne():\r\n",
        "    anotherOne = str(input('\\nDo you want to hear another one? '))\r\n",
        "    while True:\r\n",
        "        if anotherOne != 'yes':\r\n",
        "            print()\r\n",
        "requestJoke()"
      ],
      "execution_count": null,
      "outputs": []
    }
  ]
}